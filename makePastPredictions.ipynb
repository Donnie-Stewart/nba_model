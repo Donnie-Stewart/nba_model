{
 "cells": [
  {
   "cell_type": "code",
   "execution_count": 1,
   "metadata": {},
   "outputs": [],
   "source": [
    "import pickle\n",
    "import pandas as pd\n",
    "\n",
    "from ipynb.fs.full.createModel import getTrainingSet, createDataFrame\n",
    "from ipynb.fs.full.configureCWD import setCurrentWorkingDirectory\n"
   ]
  },
  {
   "cell_type": "code",
   "execution_count": 2,
   "metadata": {},
   "outputs": [],
   "source": [
    "def getTrainingSetCSV(startYear, startMonth, startDay, endYear, endMonth, endDay, season, startDateOfSeason, filename='gamesWithInfo.csv'):\n",
    "\n",
    "    # Gets date, teams, and z-score difs for every game within range\n",
    "    rangeOfGames = getTrainingSet(startYear, startMonth, startDay, endYear, endMonth, endDay, season, startDateOfSeason)\n",
    "    rangeOfGamesDataframe = createDataFrame(rangeOfGames)\n",
    "    \n",
    "#     setCurrentWorkingDirectory('Data')\n",
    "\n",
    "    rangeOfGamesDataframe.to_csv(filename)"
   ]
  },
  {
   "cell_type": "code",
   "execution_count": 3,
   "metadata": {},
   "outputs": [],
   "source": [
    "# getTrainingSetCSV(2019, 12, 30, 2020, 1, 1, '2019-20', '10/16/2019')"
   ]
  },
  {
   "cell_type": "code",
   "execution_count": 4,
   "metadata": {},
   "outputs": [],
   "source": [
    "# Creates a csv file that gives predictions for range of games\n",
    "# Prints accuracy of model in predicting games for specified range\n",
    "# gameDataFilename and outputFilename must be '.csv' files\n",
    "def getPredictionsCSV(gameDataFilename, outputFilename):\n",
    "\n",
    "#     setCurrentWorkingDirectory('Data')\n",
    "\n",
    "    gamesWithZScoreDifs = pd.read_csv(gameDataFilename)\n",
    "\n",
    "    withoutNums = gamesWithZScoreDifs.loc[:, 'Home':'Date']  # Slices dataframe to only includes home through date\n",
    "    justZScoreDifs = gamesWithZScoreDifs.loc[:, 'W_PCT':'TS_PCT']  # Slices dataframe to only include statistical differences\n",
    "\n",
    "#     setCurrentWorkingDirectory('SavedModels')\n",
    "    with open('finalized_model.pkl', 'rb') as file:  # Change filename here if model is named differently\n",
    "        pickleModel = pickle.load(file)\n",
    "\n",
    "    predictions = pickleModel.predict(justZScoreDifs)  # Creates list of predicted winners and losers\n",
    "    probPredictions = pickleModel.predict_proba(justZScoreDifs)  # Creates list of probabilities that home team wins\n",
    "\n",
    "    numCorrect = 0\n",
    "    numWrong = 0\n",
    "    allGames = []\n",
    "\n",
    "    for i in range(len(probPredictions)):\n",
    "\n",
    "        winProbability = probPredictions[i][1]\n",
    "        homeTeam = withoutNums.iloc[i, 0]\n",
    "        awayTeam = withoutNums.iloc[i, 1]\n",
    "        date = withoutNums.iloc[i, 10]\n",
    "\n",
    "        currentGameWithPred = [date, homeTeam, awayTeam, winProbability]\n",
    "\n",
    "        allGames.append(currentGameWithPred)\n",
    "\n",
    "        # Creates dataframe that holds all games info and predictions\n",
    "        predictionsDF = pd.DataFrame(\n",
    "            allGames,\n",
    "            columns=['Date', 'Home', 'Away', 'Home Team Win Probability']\n",
    "        )\n",
    "\n",
    "        setCurrentWorkingDirectory('Data')\n",
    "        predictionsDF.to_csv(outputFilename)  # Saves game info with predictions in data folder as csv file\n",
    "\n",
    "        value = withoutNums.iloc[i,9]\n",
    "        if value == predictions[i]:\n",
    "            numCorrect += 1\n",
    "        else :\n",
    "            numWrong += 1\n",
    "\n",
    "    print('Accuracy:')\n",
    "    print((numCorrect)/(numCorrect+numWrong))  # Prints accuracy of model in predicting games for specified range"
   ]
  },
  {
   "cell_type": "code",
   "execution_count": 5,
   "metadata": {},
   "outputs": [],
   "source": [
    "# # Generates probability predictions over specified range of games exports them to a csv with game info\n",
    "# # gameDataFilename and outputFilename must end in '.csv'\n",
    "# # season must be in form 'yyyy-yy' and startDateOfSeason must be in form 'mm/dd/yyyy'\n",
    "def makePastPredictions(startYear, startMonth, startDay, endYear, endMonth, endDay, season, startDateOfSeason,\n",
    "                       gameDataFilename='gamesWithInfo.csv', outputFilename='predictions.csv'):\n",
    "\n",
    "    # Obtains info for range of games\n",
    "    getTrainingSetCSV(startYear, startMonth, startDay, endYear, endMonth, endDay, season, startDateOfSeason,\n",
    "                          gameDataFilename)\n",
    "    # Makes probabilities for range of games\n",
    "    getPredictionsCSV(gameDataFilename, outputFilename)"
   ]
  },
  {
   "cell_type": "code",
   "execution_count": null,
   "metadata": {},
   "outputs": [
    {
     "name": "stdout",
     "output_type": "stream",
     "text": [
      "12/29/2019\n"
     ]
    }
   ],
   "source": [
    "# # start date (yyyy, m, d) (must be at least three days after start of season), end date (yyyy, m, d) (non-inclusive),\n",
    "# # season(yyyy-yy), start date of season (mm/dd/yyyy), .csv filename for games with z score differences,\n",
    "# # .csv filename for games with predictions\n",
    "# # EDIT THIS\n",
    "makePastPredictions(2019, 12, 29, 2020, 1, 1, '2019-20', '10/16/2019',\n",
    "                    'gamesWithInfo.csv', 'predictions.csv')"
   ]
  },
  {
   "cell_type": "code",
   "execution_count": null,
   "metadata": {},
   "outputs": [],
   "source": []
  },
  {
   "cell_type": "code",
   "execution_count": null,
   "metadata": {},
   "outputs": [],
   "source": []
  }
 ],
 "metadata": {
  "kernelspec": {
   "display_name": "Python 3",
   "language": "python",
   "name": "python3"
  },
  "language_info": {
   "codemirror_mode": {
    "name": "ipython",
    "version": 3
   },
   "file_extension": ".py",
   "mimetype": "text/x-python",
   "name": "python",
   "nbconvert_exporter": "python",
   "pygments_lexer": "ipython3",
   "version": "3.7.6"
  }
 },
 "nbformat": 4,
 "nbformat_minor": 4
}
