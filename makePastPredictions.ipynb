{
 "cells": [
  {
   "cell_type": "code",
   "execution_count": null,
   "metadata": {},
   "outputs": [],
   "source": [
    "import pickle\n",
    "import pandas as pd\n",
    "import datetime\n",
    "\n",
    "from ipynb.fs.full.createModel import getTrainingSet, createDataFrame\n",
    "from ipynb.fs.full.configureCWD import setCurrentWorkingDirectory\n",
    "import os.path\n",
    "from os import path\n"
   ]
  },
  {
   "cell_type": "code",
   "execution_count": null,
   "metadata": {},
   "outputs": [],
   "source": [
    "def getTrainingSetCSV(startYear, startMonth, startDay, endYear, endMonth, endDay, season, startDateOfSeason, filename='gamesWithInfo.csv'):\n",
    "\n",
    "    # Gets date, teams, and z-score difs for every game within range\n",
    "    rangeOfGames = getTrainingSet(startYear, startMonth, startDay, endYear, endMonth, endDay, season, startDateOfSeason)\n",
    "    rangeOfGamesDataframe = createDataFrame(rangeOfGames)\n",
    "    \n",
    "#     setCurrentWorkingDirectory('Data') index=False\n",
    "\n",
    "    rangeOfGamesDataframe.to_csv(filename, index=False)"
   ]
  },
  {
   "cell_type": "code",
   "execution_count": null,
   "metadata": {},
   "outputs": [],
   "source": [
    "# Creates a csv file that gives predictions for range of games\n",
    "# Prints accuracy of model in predicting games for specified range\n",
    "# gameDataFilename and outputFilename must be '.csv' files\n",
    "def getPredictionsCSV(gameDataFilename, outputFilename):\n",
    "\n",
    "#     setCurrentWorkingDirectory('Data')\n",
    "\n",
    "    gamesWithZScoreDifs = pd.read_csv(gameDataFilename)\n",
    "\n",
    "    withoutNums = gamesWithZScoreDifs.loc[:, 'Home':'Date']  # Slices dataframe to only includes home through date\n",
    "    justZScoreDifs = gamesWithZScoreDifs.loc[:, 'W_PCT':'TS_PCT']  # Slices dataframe to only include statistical differences\n",
    "\n",
    "#     setCurrentWorkingDirectory('SavedModels')\n",
    "    with open('finalized_model.pkl', 'rb') as file:  # Change filename here if model is named differently\n",
    "        pickleModel = pickle.load(file)\n",
    "\n",
    "    predictions = pickleModel.predict(justZScoreDifs)  # Creates list of predicted winners and losers\n",
    "    probPredictions = pickleModel.predict_proba(justZScoreDifs)  # Creates list of probabilities that home team wins\n",
    "\n",
    "    numCorrect = 0\n",
    "    numWrong = 0\n",
    "    allGames = []\n",
    "\n",
    "    for i in range(len(probPredictions)):\n",
    "\n",
    "        winProbability = probPredictions[i][1]\n",
    "        homeTeam = withoutNums.iloc[i, 0]\n",
    "        awayTeam = withoutNums.iloc[i, 1]\n",
    "        date = withoutNums.iloc[i, 10]\n",
    "\n",
    "        currentGameWithPred = [date, homeTeam, awayTeam, winProbability]\n",
    "\n",
    "        allGames.append(currentGameWithPred)\n",
    "\n",
    "        # Creates dataframe that holds all games info and predictions\n",
    "        predictionsDF = pd.DataFrame(\n",
    "            allGames,\n",
    "            columns=['Date', 'Home', 'Away', 'Home Team Win Probability']\n",
    "        )\n",
    "\n",
    "#         setCurrentWorkingDirectory('Data')\n",
    "        predictionsDF.to_csv(outputFilename)  # Saves game info with predictions in data folder as csv file\n",
    "\n",
    "        value = withoutNums.iloc[i,9]\n",
    "        if value == predictions[i]:\n",
    "            numCorrect += 1\n",
    "        else :\n",
    "            numWrong += 1\n",
    "\n",
    "    print('Accuracy:')\n",
    "    print((numCorrect)/(numCorrect+numWrong))  # Prints accuracy of model in predicting games for specified range"
   ]
  },
  {
   "cell_type": "code",
   "execution_count": null,
   "metadata": {},
   "outputs": [],
   "source": [
    "# # Generates probability predictions over specified range of games exports them to a csv with game info\n",
    "# # gameDataFilename and outputFilename must end in '.csv'\n",
    "# # season must be in form 'yyyy-yy' and startDateOfSeason must be in form 'mm/dd/yyyy'\n",
    "def makePastPredictions(startYear, startMonth, startDay, endYear, endMonth, endDay, season, startDateOfSeason,\n",
    "                       gameDataFilename='gamesWithInfo.csv'):\n",
    "\n",
    "    # Obtains info for range of games\n",
    "    getTrainingSetCSV(startYear, startMonth, startDay, endYear, endMonth, endDay, season, startDateOfSeason,\n",
    "                          gameDataFilename)\n",
    "#     # Makes probabilities for range of games\n",
    "#     getPredictionsCSV(gameDataFilename, outputFilename)"
   ]
  },
  {
   "cell_type": "code",
   "execution_count": null,
   "metadata": {
    "scrolled": true
   },
   "outputs": [],
   "source": [
    "# # start date (yyyy, m, d) (must be at least three days after start of season), end date (yyyy, m, d) (non-inclusive),\n",
    "# # season(yyyy-yy), start date of season (mm/dd/yyyy), .csv filename for games with z score differences,\n",
    "# # .csv filename for games with predictions\n",
    "# # EDIT THIS\n",
    "# makePastPredictions(2019, 10, 25, 2020, 3, 12, '2019-20', '10/16/2019',\n",
    "#                     'gamesWithInfo.csv')"
   ]
  },
  {
   "cell_type": "code",
   "execution_count": null,
   "metadata": {},
   "outputs": [],
   "source": [
    "# csv = pd.read_csv(\"gamesWithInfo.csv\")\n",
    "# start_date = csv[\"Date\"][len(csv)-1].split('/')\n",
    "# print(start_date)\n",
    "# month = int(start_date[0])\n",
    "# day = int(start_date[1])\n",
    "# print(month)\n",
    "# print(day)"
   ]
  },
  {
   "cell_type": "code",
   "execution_count": null,
   "metadata": {},
   "outputs": [],
   "source": [
    "def updateCSV(filename):\n",
    "    old_df = pd.read_csv(filename)\n",
    "    \n",
    "    start_date = old_df[\"Date\"][len(old_df)-1].split('/')\n",
    "    month = int(start_date[0])\n",
    "    day = int(start_date[1])\n",
    "    year = int(start_date[2])\n",
    "    \n",
    "    new_df = createDataFrame(getTrainingSet(year, month, (day+1),2019, 10, 29,'2019-20', '10/16/2019'))\n",
    "    uptodate = old_df.append(new_df)\n",
    "    uptodate.drop(columns = ['Unnamed: 0'])\n",
    "    \n",
    "    uptodate.to_csv(filename)"
   ]
  },
  {
   "cell_type": "code",
   "execution_count": null,
   "metadata": {},
   "outputs": [],
   "source": [
    "def month_to_month(filename, season = '2018-19'):\n",
    "    if (path.exists(filename) != True): #file doesnt exist\n",
    "        getTrainingSetCSV(2018, 10, 25, 2018, 11, 1,'2018-19', '10/16/2018')\n",
    "\n",
    "    if (path.exists(filename) == True): #file does exist\n",
    "        old_df = pd.read_csv(filename)\n",
    "        start_date = old_df[\"Date\"][len(old_df)-1].split('/')\n",
    "        month = int(start_date[0])\n",
    "        day = int(start_date[1])\n",
    "        year = int(start_date[2])\n",
    "        \n",
    "        new_month = (month%12)+1\n",
    "        new_df = old_df\n",
    "        \n",
    "        end_year = year\n",
    "        \n",
    "        while (new_month != 7):\n",
    "            new_df = pd.read_csv(filename)\n",
    "            new_df.append(createDataFrame(getTrainingSet(year, new_month,1,end_year,(new_month%12)+1, 1,'2018-19', '10/16/2018')), ignore_index=True)\n",
    "            new_df.to_csv(filename)\n",
    "            new_month = (new_month+1)%12\n",
    "            if (new_month == 1):\n",
    "                end_year = end_year + 1\n",
    "                "
   ]
  },
  {
   "cell_type": "code",
   "execution_count": null,
   "metadata": {
    "scrolled": true
   },
   "outputs": [],
   "source": [
    "# month_to_month('gamesWithInfo.csv')"
   ]
  },
  {
   "cell_type": "code",
   "execution_count": null,
   "metadata": {},
   "outputs": [],
   "source": [
    "def day_to_day(filename, season = '2018-19'):\n",
    "    if (path.exists(filename) != True): #file doesnt exist\n",
    "        getTrainingSetCSV(2018, 10, 25, 2018, 10, 26,'2018-19', '10/16/2018')\n",
    "\n",
    "    if (path.exists(filename) == True): #file does exist\n",
    "        old_df = pd.read_csv(filename)\n",
    "        start_date = old_df[\"Date\"][len(old_df)-1].split('/')\n",
    "        month = int(start_date[0])\n",
    "        day = int(start_date[1])\n",
    "        year = int(start_date[2])\n",
    "        \n",
    "        current_date = datetime.date(year, month, day)\n",
    "        current_date = current_date + datetime.timedelta(1)\n",
    "        end_date = datetime.date(2019, 7, 1) \n",
    "        \n",
    "        new_df = old_df\n",
    "                \n",
    "        while (current_date < end_date):\n",
    "            \n",
    "            new_df = pd.read_csv(filename)\n",
    "            y = current_date.year\n",
    "            m = current_date.month\n",
    "            d = current_date.day\n",
    "            \n",
    "            current_date = current_date + datetime.timedelta(1)\n",
    "            n_y = current_date.year\n",
    "            n_m = current_date.month\n",
    "            n_d = current_date.day\n",
    "            \n",
    "            temp_df = createDataFrame(getTrainingSet(y, m, d, n_y, n_m, n_d,'2018-19', '10/16/2018'))\n",
    "            temp_df.to_csv(filename, mode='a', header=False, index=False)\n",
    "#             new_df.append(temp_df, ignore_index=True)\n",
    "#             print(new_df)\n",
    "#             new_df.to_csv(filename)\n"
   ]
  },
  {
   "cell_type": "code",
   "execution_count": null,
   "metadata": {},
   "outputs": [],
   "source": []
  },
  {
   "cell_type": "code",
   "execution_count": null,
   "metadata": {},
   "outputs": [],
   "source": [
    "day_to_day('gamesWithInfo.csv')"
   ]
  },
  {
   "cell_type": "code",
   "execution_count": null,
   "metadata": {},
   "outputs": [],
   "source": []
  },
  {
   "cell_type": "code",
   "execution_count": null,
   "metadata": {},
   "outputs": [],
   "source": []
  }
 ],
 "metadata": {
  "kernelspec": {
   "display_name": "Python 3",
   "language": "python",
   "name": "python3"
  },
  "language_info": {
   "codemirror_mode": {
    "name": "ipython",
    "version": 3
   },
   "file_extension": ".py",
   "mimetype": "text/x-python",
   "name": "python",
   "nbconvert_exporter": "python",
   "pygments_lexer": "ipython3",
   "version": "3.7.6"
  }
 },
 "nbformat": 4,
 "nbformat_minor": 4
}
