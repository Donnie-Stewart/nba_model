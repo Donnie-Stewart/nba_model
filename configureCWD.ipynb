{
 "cells": [
  {
   "cell_type": "code",
   "execution_count": null,
   "metadata": {},
   "outputs": [],
   "source": [
    "# configureCWD.py - Sets current working directory relative to where program folder is located\n",
    "\n",
    "import os\n",
    "\n",
    "# Sets current working directory relative to where program folder is located\n",
    "def setCurrentWorkingDirectory(directoryName):\n",
    "\n",
    "    programDirectory = os.path.dirname(os.path.abspath(__file__))\n",
    "    newCurrentWorkingDirectory = os.path.join(programDirectory, directoryName)\n",
    "    os.chdir(newCurrentWorkingDirectory)"
   ]
  }
 ],
 "metadata": {
  "kernelspec": {
   "display_name": "Python 3",
   "language": "python",
   "name": "python3"
  },
  "language_info": {
   "codemirror_mode": {
    "name": "ipython",
    "version": 3
   },
   "file_extension": ".py",
   "mimetype": "text/x-python",
   "name": "python",
   "nbconvert_exporter": "python",
   "pygments_lexer": "ipython3",
   "version": "3.7.6"
  }
 },
 "nbformat": 4,
 "nbformat_minor": 4
}
