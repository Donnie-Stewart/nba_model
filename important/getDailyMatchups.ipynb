{
 "cells": [
  {
   "cell_type": "code",
   "execution_count": 1,
   "metadata": {},
   "outputs": [],
   "source": [
    "# getDailyMatchups.py - Finds the daily NBA games\n",
    "import pandas as pd\n",
    "\n",
    "from nba_api.stats.endpoints import leaguegamelog, scoreboard\n",
    "from ipynb.fs.full.teamIds import teams\n",
    "from ipynb.fs.full.customHeaders import customHeaders"
   ]
  },
  {
   "cell_type": "code",
   "execution_count": 2,
   "metadata": {},
   "outputs": [],
   "source": [
    "# Function to get you the games on a specified date (Home vs. Away)\n",
    "# Used for dates in the past\n",
    "# Return value is a list where index 0 is a dict holding the games and index 1 is the result of the games\n",
    "# Enter a date in the format mm/dd/yyyy and season in the format yyyy-yy\n",
    "def dailyMatchupsPast(date, season):\n",
    "\n",
    "    # Obtains a list of teams who played on specified date\n",
    "    dailyMatchups = leaguegamelog.LeagueGameLog(season=season, league_id='00', season_type_all_star='Regular Season', date_from_nullable=date,date_to_nullable=date, headers=customHeaders,timeout=60)\n",
    "    dailyMatchupsDict = dailyMatchups.get_normalized_dict()\n",
    "    listOfTeams = dailyMatchupsDict['LeagueGameLog']\n",
    "\n",
    "    winLossList = []\n",
    "    homeAwayDict = {}\n",
    "    for i in range(0,len(listOfTeams),2):  # Loops through every other team\n",
    "        if '@' in listOfTeams[i]['MATCHUP']:  # @ in matchup indicates that the current team is away\n",
    "            awayTeam = listOfTeams[i]['TEAM_NAME']\n",
    "            homeTeam = listOfTeams[i+1]['TEAM_NAME']\n",
    "\n",
    "            winLossList.append(listOfTeams[i+1]['WL'])  # Appends if the home team won or lost to list\n",
    "\n",
    "        else:\n",
    "            awayTeam = listOfTeams[i+1]['TEAM_NAME']\n",
    "            homeTeam = listOfTeams[i]['TEAM_NAME']\n",
    "\n",
    "            winLossList.append(listOfTeams[i]['WL'])  # Appends if the home team won or lost to the list\n",
    "\n",
    "        homeAwayDict.update({homeTeam:awayTeam})  # Adds current game to list of all games for that day\n",
    "\n",
    "    matchupsResultCombined = [homeAwayDict, winLossList]  # Combines games and win/loss results into one list\n",
    "    return(matchupsResultCombined)\n"
   ]
  },
  {
   "cell_type": "code",
   "execution_count": 3,
   "metadata": {},
   "outputs": [],
   "source": [
    "# Function to get you the games on a specified date (Home vs. Away)\n",
    "# Used for dates in the present or future\n",
    "# Return value is a list where index 0 is a dict holding the games  {Home:Away}\n",
    "# Enter a date in the format mm/dd/yyyy\n",
    "def dailyMatchupsPresent(date):\n",
    "\n",
    "    # Obtains all games that are set to occur on specified date\n",
    "    dailyMatchups = scoreboard.Scoreboard(league_id='00', game_date=date, headers=customHeaders, timeout=120)\n",
    "    dailyMatchupsDict = dailyMatchups.get_normalized_dict()\n",
    "    listOfGames = dailyMatchupsDict['GameHeader']\n",
    "\n",
    "    homeAwayDict = {}\n",
    "\n",
    "    for game in listOfGames:  # Loops through each game on date\n",
    "\n",
    "        homeTeamID = game['HOME_TEAM_ID']\n",
    "\n",
    "        for team, teamID in teams.items():  # Finds name of the home team that corresponds with teamID\n",
    "            if teamID == homeTeamID:\n",
    "                homeTeamName = team\n",
    "\n",
    "        awayTeamID = game['VISITOR_TEAM_ID']\n",
    "\n",
    "        for team, teamID in teams.items():  # Finds name of the away team that corresponds with teamID\n",
    "            if teamID == awayTeamID:\n",
    "                awayTeamName = team\n",
    "\n",
    "        homeAwayDict.update({homeTeamName:awayTeamName})\n",
    "\n",
    "    return homeAwayDict"
   ]
  },
  {
   "cell_type": "code",
   "execution_count": 5,
   "metadata": {},
   "outputs": [
    {
     "data": {
      "text/plain": [
       "[{'Portland Trail Blazers': 'Memphis Grizzlies',\n",
       "  'Milwaukee Bucks': 'Boston Celtics',\n",
       "  'San Antonio Spurs': 'Sacramento Kings',\n",
       "  'Dallas Mavericks': 'Houston Rockets',\n",
       "  'Brooklyn Nets': 'Orlando Magic',\n",
       "  'Washington Wizards': 'Phoenix Suns'},\n",
       " ['W', 'W', 'W', 'L', 'L', 'L']]"
      ]
     },
     "execution_count": 5,
     "metadata": {},
     "output_type": "execute_result"
    }
   ],
   "source": [
    "# past = dailyMatchupsPast('07/31/2020','2019-20')\n",
    "# past"
   ]
  },
  {
   "cell_type": "code",
   "execution_count": 11,
   "metadata": {},
   "outputs": [
    {
     "data": {
      "text/plain": [
       "{'New Jersey Nets': 'Orlando Magic',\n",
       " 'Portland Trail Blazers': 'Memphis Grizzlies',\n",
       " 'Washington Wizards': 'Phoenix Suns',\n",
       " 'Milwaukee Bucks': 'Boston Celtics',\n",
       " 'San Antonio Spurs': 'Sacramento Kings',\n",
       " 'Dallas Mavericks': 'Houston Rockets'}"
      ]
     },
     "execution_count": 11,
     "metadata": {},
     "output_type": "execute_result"
    }
   ],
   "source": [
    "# dailyMatchupsPresent('07/31/2020')"
   ]
  },
  {
   "cell_type": "code",
   "execution_count": null,
   "metadata": {},
   "outputs": [],
   "source": []
  },
  {
   "cell_type": "code",
   "execution_count": null,
   "metadata": {},
   "outputs": [],
   "source": []
  }
 ],
 "metadata": {
  "kernelspec": {
   "display_name": "Python 3",
   "language": "python",
   "name": "python3"
  },
  "language_info": {
   "codemirror_mode": {
    "name": "ipython",
    "version": 3
   },
   "file_extension": ".py",
   "mimetype": "text/x-python",
   "name": "python",
   "nbconvert_exporter": "python",
   "pygments_lexer": "ipython3",
   "version": "3.7.6"
  }
 },
 "nbformat": 4,
 "nbformat_minor": 4
}
