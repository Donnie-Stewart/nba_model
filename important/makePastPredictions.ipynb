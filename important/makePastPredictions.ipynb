{
 "cells": [
  {
   "cell_type": "code",
   "execution_count": 1,
   "metadata": {},
   "outputs": [],
   "source": [
    "import pickle\n",
    "import pandas as pd\n",
    "\n",
    "from ipynb.fs.full.createModel import getTrainingSet, createDataFrame\n",
    "from ipynb.fs.full.configureCWD import setCurrentWorkingDirectory\n",
    "import os.path\n",
    "from os import path\n"
   ]
  },
  {
   "cell_type": "code",
   "execution_count": 2,
   "metadata": {},
   "outputs": [],
   "source": [
    "def getTrainingSetCSV(startYear, startMonth, startDay, endYear, endMonth, endDay, season, startDateOfSeason, filename='gamesWithInfo.csv'):\n",
    "\n",
    "    # Gets date, teams, and z-score difs for every game within range\n",
    "    rangeOfGames = getTrainingSet(startYear, startMonth, startDay, endYear, endMonth, endDay, season, startDateOfSeason)\n",
    "    rangeOfGamesDataframe = createDataFrame(rangeOfGames)\n",
    "    \n",
    "#     setCurrentWorkingDirectory('Data')\n",
    "\n",
    "    rangeOfGamesDataframe.to_csv(filename)"
   ]
  },
  {
   "cell_type": "code",
   "execution_count": 3,
   "metadata": {},
   "outputs": [],
   "source": [
    "# Creates a csv file that gives predictions for range of games\n",
    "# Prints accuracy of model in predicting games for specified range\n",
    "# gameDataFilename and outputFilename must be '.csv' files\n",
    "def getPredictionsCSV(gameDataFilename, outputFilename):\n",
    "\n",
    "#     setCurrentWorkingDirectory('Data')\n",
    "\n",
    "    gamesWithZScoreDifs = pd.read_csv(gameDataFilename)\n",
    "\n",
    "    withoutNums = gamesWithZScoreDifs.loc[:, 'Home':'Date']  # Slices dataframe to only includes home through date\n",
    "    justZScoreDifs = gamesWithZScoreDifs.loc[:, 'W_PCT':'TS_PCT']  # Slices dataframe to only include statistical differences\n",
    "\n",
    "#     setCurrentWorkingDirectory('SavedModels')\n",
    "    with open('finalized_model.pkl', 'rb') as file:  # Change filename here if model is named differently\n",
    "        pickleModel = pickle.load(file)\n",
    "\n",
    "    predictions = pickleModel.predict(justZScoreDifs)  # Creates list of predicted winners and losers\n",
    "    probPredictions = pickleModel.predict_proba(justZScoreDifs)  # Creates list of probabilities that home team wins\n",
    "\n",
    "    numCorrect = 0\n",
    "    numWrong = 0\n",
    "    allGames = []\n",
    "\n",
    "    for i in range(len(probPredictions)):\n",
    "\n",
    "        winProbability = probPredictions[i][1]\n",
    "        homeTeam = withoutNums.iloc[i, 0]\n",
    "        awayTeam = withoutNums.iloc[i, 1]\n",
    "        date = withoutNums.iloc[i, 10]\n",
    "\n",
    "        currentGameWithPred = [date, homeTeam, awayTeam, winProbability]\n",
    "\n",
    "        allGames.append(currentGameWithPred)\n",
    "\n",
    "        # Creates dataframe that holds all games info and predictions\n",
    "        predictionsDF = pd.DataFrame(\n",
    "            allGames,\n",
    "            columns=['Date', 'Home', 'Away', 'Home Team Win Probability']\n",
    "        )\n",
    "\n",
    "#         setCurrentWorkingDirectory('Data')\n",
    "        predictionsDF.to_csv(outputFilename)  # Saves game info with predictions in data folder as csv file\n",
    "\n",
    "        value = withoutNums.iloc[i,9]\n",
    "        if value == predictions[i]:\n",
    "            numCorrect += 1\n",
    "        else :\n",
    "            numWrong += 1\n",
    "\n",
    "    print('Accuracy:')\n",
    "    print((numCorrect)/(numCorrect+numWrong))  # Prints accuracy of model in predicting games for specified range"
   ]
  },
  {
   "cell_type": "code",
   "execution_count": 4,
   "metadata": {},
   "outputs": [],
   "source": [
    "# # Generates probability predictions over specified range of games exports them to a csv with game info\n",
    "# # gameDataFilename and outputFilename must end in '.csv'\n",
    "# # season must be in form 'yyyy-yy' and startDateOfSeason must be in form 'mm/dd/yyyy'\n",
    "def makePastPredictions(startYear, startMonth, startDay, endYear, endMonth, endDay, season, startDateOfSeason,\n",
    "                       gameDataFilename='gamesWithInfo.csv'):\n",
    "\n",
    "    # Obtains info for range of games\n",
    "    getTrainingSetCSV(startYear, startMonth, startDay, endYear, endMonth, endDay, season, startDateOfSeason,\n",
    "                          gameDataFilename)\n",
    "#     # Makes probabilities for range of games\n",
    "#     getPredictionsCSV(gameDataFilename, outputFilename)"
   ]
  },
  {
   "cell_type": "code",
   "execution_count": null,
   "metadata": {
    "scrolled": true
   },
   "outputs": [],
   "source": [
    "# # start date (yyyy, m, d) (must be at least three days after start of season), end date (yyyy, m, d) (non-inclusive),\n",
    "# # season(yyyy-yy), start date of season (mm/dd/yyyy), .csv filename for games with z score differences,\n",
    "# # .csv filename for games with predictions\n",
    "# # EDIT THIS\n",
    "makePastPredictions(2019, 10, 25, 2020, 3, 12, '2019-20', '10/16/2019',\n",
    "                    'gamesWithInfo.csv')"
   ]
  },
  {
   "cell_type": "code",
   "execution_count": null,
   "metadata": {},
   "outputs": [],
   "source": [
    "csv = pd.read_csv(\"gamesWithInfo.csv\")\n",
    "start_date = csv[\"Date\"][len(csv)-1].split('/')\n",
    "print(start_date)\n",
    "month = int(start_date[0])\n",
    "day = int(start_date[1])\n",
    "print(month)\n",
    "print(day)"
   ]
  },
  {
   "cell_type": "code",
   "execution_count": null,
   "metadata": {},
   "outputs": [],
   "source": [
    "def updateCSV(filename):\n",
    "    old_df = pd.read_csv(filename)\n",
    "    \n",
    "    start_date = old_df[\"Date\"][len(old_df)-1].split('/')\n",
    "    month = int(start_date[0])\n",
    "    day = int(start_date[1])\n",
    "    year = int(start_date[2])\n",
    "    \n",
    "    new_df = createDataFrame(getTrainingSet(year, month, (day+1),2019, 10, 29,'2019-20', '10/16/2019'))\n",
    "    uptodate = old_df.append(new_df)\n",
    "    uptodate.drop(columns = ['Unnamed: 0'])\n",
    "    \n",
    "    uptodate.to_csv(filename)"
   ]
  },
  {
   "cell_type": "code",
   "execution_count": 7,
   "metadata": {},
   "outputs": [],
   "source": [
    "def month_to_month(filename, season = '2018-19'):\n",
    "    if (path.exists(filename) != True): #file doesnt exist\n",
    "        getTrainingSetCSV(2018, 10, 25, 2018, 11, 1,'2018-19', '10/16/2018')\n",
    "\n",
    "    if (path.exists(filename) == True): #file does exist\n",
    "        old_df = pd.read_csv(filename)\n",
    "        start_date = old_df[\"Date\"][len(old_df)-1].split('/')\n",
    "        month = int(start_date[0])\n",
    "        day = int(start_date[1])\n",
    "        year = int(start_date[2])\n",
    "        \n",
    "        new_month = (month%12)+1\n",
    "        new_df = old_df\n",
    "        \n",
    "        end_year = year\n",
    "        \n",
    "        while (new_month != 7):\n",
    "            new_df = pd.read_csv(filename)\n",
    "            new_df.append(createDataFrame(getTrainingSet(year, new_month,1,end_year,(new_month%12)+1, 1,'2018-19', '10/16/2018')), ignore_index=True)\n",
    "            new_df.to_csv(filename)\n",
    "            new_month = (new_month+1)%12\n",
    "            if (new_month == 1):\n",
    "                end_year = end_year + 1\n",
    "                "
   ]
  },
  {
   "cell_type": "code",
   "execution_count": null,
   "metadata": {
    "scrolled": true
   },
   "outputs": [
    {
     "name": "stdout",
     "output_type": "stream",
     "text": [
      "11/01/2018\n",
      "['Philadelphia 76ers', 'LA Clippers', -0.29134871082327607, 1.1259214797773416, 2.0148873837911423, -1.191780164151846, -0.8328684684746059, -0.835604182564774, 0.3997919784781244, -1.508555799190075, 1]\n",
      "['Boston Celtics', 'Milwaukee Bucks', -1.173601849231789, -1.095491169513091, -1.1102440686196091, -1.8227226039969415, -1.4158763964068304, -2.467021872334094, -0.39979197847812475, -2.771532747349211, 1]\n",
      "['Cleveland Cavaliers', 'Denver Nuggets', -2.92990112011013, -1.2172124105701003, -1.3980851234469163, 0.6309424398450955, -2.082171171186515, -0.0795813507204529, 2.878502245042497, -0.07016538600884087, 0]\n",
      "['Portland Trail Blazers', 'New Orleans Pelicans', 0.5868009246158944, 1.8866792363836564, -2.384968739997678, 0.9814660175368151, 0.832868468474606, -0.0795813507204528, -1.3792823257495277, 0.1754134650221023, 1]\n",
      "['Atlanta Hawks', 'Sacramento Kings', -1.3910875066069104, -0.39559403343528393, 0.04112015068961575, 1.962932035073629, -1.0549667267345009, -1.790580391210229, -0.23987518708687525, -0.9121500181149276, 0]\n",
      "['Charlotte Hornets', 'Oklahoma City Thunder', 0.6852849958801004, -0.5781758950207972, 2.138247835859988, -2.1732461816886626, 1.1798969970056918, 2.486917210014207, 0.819573555880154, 2.280375045287325, 0]\n",
      "11/02/2018\n",
      "['Golden State Warriors', 'Minnesota Timberwolves', 1.6191045716756902, 0.5812315062481472, 3.0750450967498186, 0.9927950193645887, 2.073280180832577, 1.808220617575669, -1.4015783862298195, 2.6225953796893835, 1]\n",
      "['Chicago Bulls', 'Indiana Pacers', -1.5608334559855623, -0.2583251138880671, -0.24932798081755347, -0.0709139299546132, -2.0318145772159255, -0.8330005092202517, 2.301098843063882, -0.49616669345474884, 0]\n",
      "['Phoenix Suns', 'Toronto Raptors', -3.046746906083818, -1.905147714924485, -0.1662186538783681, 3.120212918002991, -3.1237421391210827, -2.6615382123866604, 1.840879074451105, -0.7442500401821195, 0]\n",
      "['Brooklyn Nets', 'Houston Rockets', 0.8657422902533253, 1.033300455552262, 1.7868505291924612, 2.411073618456859, 0.8845995438218995, 0.8330005092202517, -0.4393006882212853, 1.559381036572068, 0]\n",
      "['Orlando Magic', 'LA Clippers', -0.8907156255490943, 0.3874876708320997, 1.7868505291924628, -1.560106459001497, -1.8383084270048848, -2.1332939870274767, 0.6694105725276724, -3.0124406388324, 0]\n",
      "['Utah Jazz', 'Memphis Grizzlies', -0.3995733647323043, 1.0655910947882707, -0.37399197122632877, 1.3473646691376548, 0.1658624144666062, 1.2393422210350091, 1.0250349391830031, 1.3112976898446898, 0]\n",
      "['Dallas Mavericks', 'New York Knicks', 0.0, -0.3229063923600823, 1.495967884905318, 1.347364669137656, -0.1105749429777374, 0.2844391982703285, 0.3765434470468165, 0.7796905182860341, 0]\n",
      "['Washington Wizards', 'Oklahoma City Thunder', -1.1903956490983225, -2.3572166642286, 0.20777331734796078, -0.35456964977306726, -1.1472150333940259, 0.20317085590737882, 1.9663935568000428, 1.4176191241564255, 0]\n",
      "11/03/2018\n",
      "['Philadelphia 76ers', 'Detroit Pistons', -0.061842360872946756, 0.16284562759160504, 3.246998076584067, 0.14002958638764818, 0.2188386337415495, -0.13009527422253253, -0.3072498217554736, 0.5364675836939556, 1]\n",
      "['San Antonio Spurs', 'New Orleans Pelicans', 0.8822843484540457, 0.48853688277481533, -0.5782325341862043, -1.1902514842950145, 0.2188386337415495, -0.5203810968901332, -0.8398161794649628, -0.6131058099359451, 1]\n",
      "['Chicago Bulls', 'Houston Rockets', -0.26386073972457413, -0.130276502073286, 1.6012593254387177, 0.7701627251320687, 0.01367741460884675, 0.23850800274131378, 0.3891831075569314, 1.341168959234885, 0]\n",
      "['Portland Trail Blazers', 'Los Angeles Lakers', 1.5460590218236785, 2.442684413874077, -1.9126153053851365, 0.7001479319382434, 1.1352254125342882, 0.6287938254089114, -1.044649393968609, 0.7280631492989399, 0]\n",
      "['Indiana Pacers', 'Boston Celtics', -0.3421943968303074, -1.8890092800626186, 0.17791770282652367, 0.49010355235676994, 0.16412897530616222, 2.124889478968054, 1.6386657160291922, 1.8776365429288406, 1]\n",
      "['Atlanta Hawks', 'Miami Heat', -0.7379855064171692, -2.377546162837436, 0.622711959892836, 1.4002958638764869, -1.5455478507996936, -1.8646989305229862, 0.5735330006102197, 0.3831911312099684, 1]\n",
      "['Denver Nuggets', 'Utah Jazz', 1.5460590218236783, 1.595887150397732, 0.4892736827729425, -1.3302810706826629, 0.7659352180954233, 0.0, -1.2085159655715305, -1.2645307329928912, 1]\n",
      "['Charlotte Hornets', 'Cleveland Cavaliers', 1.3151808745646758, 0.2279838786282481, 1.7346976025586112, -1.6803550366517832, 1.9421928744562518, 1.1925400137065596, -1.659149037479556, 1.072935167387907, 1]\n",
      "11/04/2018\n",
      "['San Antonio Spurs', 'Orlando Magic', 2.103818938826647, -0.10023222404721602, 0.04440119214820615, -1.3555975046051856, 2.0362481907964805, 2.7767858017061875, -0.5014680412307282, 2.3912753920913414, 0]\n",
      "['Los Angeles Lakers', 'Toronto Raptors', -1.872398855555716, -1.1693759472175311, -0.7548202665194929, 0.42808342250690046, -1.0859990350914563, -0.5192363694247331, 1.1074085910511884, -0.1992729493409452, 0]\n",
      "['Phoenix Suns', 'Memphis Grizzlies', -2.4782987099377904, 0.26728593079257756, 0.0, 2.925236720463821, -2.511372768648993, -1.3319541650460576, 2.5073402061536356, -0.3188367189455122, 1]\n",
      "['Brooklyn Nets', 'Philadelphia 76ers', -1.1234393133334295, -1.0357329818212422, -0.22200596074102752, 1.6409864529431184, -0.7330493486867331, 0.6095383467159925, 1.5670876288460223, 0.5978188480228309, 1]\n",
      "['Portland Trail Blazers', 'Minnesota Timberwolves', 0.9383032467166849, 2.2719304117369163, -1.065628611556931, 1.426944741689669, 1.4796736853121093, 0.8578687842669508, -1.4835096219742359, 1.3152014656502333, 1]\n",
      "['Milwaukee Bucks', 'Sacramento Kings', 0.875188678551885, 2.87332375602022, 0.3996107293338488, 1.2129030304362192, 1.3167738300483909, 0.3160569205194045, -1.6088766322819166, 0.4384004885500792, 1]\n",
      "['Washington Wizards', 'New York Knicks', -0.8751886785518853, -1.7707692915008342, 0.1332035764446169, 0.2853889483379327, -1.2081739265392453, -0.5869628523931792, 1.2745646047947634, 0.6376734378910243, 1]\n",
      "11/05/2018\n",
      "['Golden State Warriors', 'Memphis Grizzlies', 1.2403782136578059, 1.8935803480327253, 2.5597420188768645, 0.816607398837979, 1.2493363091654093, 2.9005368733158874, 0.5618133417374334, 2.805425198186681, 1]\n",
      "['New York Knicks', 'Chicago Bulls', 0.4510466231482929, 0.8161984258761751, -1.6052619440414226, -0.2722024662793263, 0.590345728506732, -0.11602147493263554, -1.0588020671205456, -1.242402587768389, 0]\n",
      "['LA Clippers', 'Minnesota Timberwolves', 0.7036327321113373, 1.1753257332616927, -0.5640109533118501, 2.24567034680444, 1.6749343925074718, 0.9281717994610841, -1.858305668823811, 2.0840301472243903, 1]\n",
      "['Orlando Magic', 'Cleveland Cavaliers', 1.0013235033892107, 1.0773819221565502, 1.7354183178826192, -1.3610123313966305, 0.2745794086077824, -1.2530319292724614, -1.5557907925036574, -1.322557593430866, 1]\n",
      "['Detroit Pistons', 'Miami Heat', 0.5638082789353662, -0.42442318145561253, -1.6486474019884874, -1.1568604816871366, -0.3706822016205061, -0.9977846844206646, -0.2809066708687152, -0.8416275594560056, 0]\n",
      "['Utah Jazz', 'Toronto Raptors', -2.0567726015562164, -0.7509025518060801, -1.3015637384119645, 1.2929617148267991, -1.0571307231399616, -1.2066233392994097, 0.453772314480232, -0.32062002264990686, 0]\n",
      "['Indiana Pacers', 'Houston Rockets', 1.4659015252319523, 0.06529587407009263, 1.2147928225178322, 0.06805061656983125, 1.55137365863397, 1.2994405192455196, -1.166843094377744, 1.723332621743245, 0]\n",
      "['Denver Nuggets', 'Boston Celtics', 1.0013235033892105, 0.1958876222102801, 0.6941673271530484, 0.34025308284915756, 0.7413644032410122, 1.7635264189760582, 0.45377231448023214, 0.8817050622872438, 1]\n",
      "['Oklahoma City Thunder', 'New Orleans Pelicans', 0.25258610896304406, 0.2938314333154249, -1.6052619440414242, 0.20415184970949501, 0.39814014248128426, -1.3226448142320453, -1.9447384906295708, -1.6431776160807683, 1]\n",
      "11/06/2018\n",
      "['Phoenix Suns', 'Brooklyn Nets', -0.8186580042460976, -0.6463253950554044, -0.22527298847244703, 2.0025936351832976, -1.5204768518976297, -1.8127001494405155, 0.641992632040336, 0.0, 0]\n",
      "['Portland Trail Blazers', 'Milwaukee Bucks', -0.869249229227598, -0.35547896728047057, -2.387893677807938, -0.4833846705614866, -0.8165523834265047, -0.32123800116667534, 1.0699877200672256, -0.9662117186219324, 1]\n"
     ]
    }
   ],
   "source": [
    "month_to_month('gamesWithInfo.csv')"
   ]
  },
  {
   "cell_type": "code",
   "execution_count": null,
   "metadata": {},
   "outputs": [],
   "source": []
  }
 ],
 "metadata": {
  "kernelspec": {
   "display_name": "Python 3",
   "language": "python",
   "name": "python3"
  }
 },
 "nbformat": 4,
 "nbformat_minor": 4
}
