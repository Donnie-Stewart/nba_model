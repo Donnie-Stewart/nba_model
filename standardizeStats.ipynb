{
 "cells": [
  {
   "cell_type": "code",
   "execution_count": 1,
   "metadata": {},
   "outputs": [],
   "source": [
    "# standardizeStats.py - Uses Z Scores ((Obs  - Mean) / St Dev.) to standardize any of the different statistics scraped\n",
    "from nba_api.stats.endpoints import leaguedashteamstats\n",
    "import statistics\n",
    "from ipynb.fs.full.getStats import getStatsForTeam\n",
    "from ipynb.fs.full.customHeaders import customHeaders\n",
    "import time"
   ]
  },
  {
   "cell_type": "code",
   "execution_count": 2,
   "metadata": {},
   "outputs": [],
   "source": [
    "# Finds league mean for the entered basic or advanced statistic (statType = 'Base' or 'Advanced')\n",
    "def basicOrAdvancedStatMean(startDate, endDate, stat,statType = 'Base', season='2018-19'):\n",
    "\n",
    "    time.sleep(.2)\n",
    "    # Gets list of dictionaries with stats for every team\n",
    "    allTeamsInfo = leaguedashteamstats.LeagueDashTeamStats(per_mode_detailed='Per100Possessions',\n",
    "                                                           measure_type_detailed_defense=statType,\n",
    "                                                           date_from_nullable=startDate,\n",
    "                                                           date_to_nullable=endDate,\n",
    "                                                           season=season,\n",
    "                                                           headers=customHeaders,\n",
    "                                                           timeout=120)\n",
    "    allTeamsDict = allTeamsInfo.get_normalized_dict()\n",
    "    allTeamsList = allTeamsDict['LeagueDashTeamStats']\n",
    "\n",
    "    specificStatAllTeams = []\n",
    "    for i in range(len(allTeamsList)):  # Loops through and appends specific stat to new list until every team's stat has been added\n",
    "        specificStatAllTeams.append(allTeamsList[i][stat])\n",
    "\n",
    "    mean = statistics.mean(specificStatAllTeams)  # Finds mean of stat\n",
    "    return mean"
   ]
  },
  {
   "cell_type": "code",
   "execution_count": 3,
   "metadata": {},
   "outputs": [],
   "source": [
    "# Finds league standard deviation for the entered basic or advanced statistic (statType = 'Base' or 'Advanced')\n",
    "def basicOrAdvancedStatStandardDeviation(startDate, endDate, stat,statType = 'Base', season='2018-19'):\n",
    "\n",
    "    time.sleep(.2)\n",
    "    # Gets list of dictionaries with stats for every team\n",
    "    allTeamsInfo = leaguedashteamstats.LeagueDashTeamStats(per_mode_detailed='Per100Possessions',\n",
    "                                                           measure_type_detailed_defense=statType,\n",
    "                                                           date_from_nullable=startDate,\n",
    "                                                           date_to_nullable=endDate,\n",
    "                                                           season=season,\n",
    "                                                           headers=customHeaders,\n",
    "                                                           timeout=120\n",
    "                                                           )\n",
    "    allTeamsDict = allTeamsInfo.get_normalized_dict()\n",
    "    allTeamsList = allTeamsDict['LeagueDashTeamStats']\n",
    "\n",
    "    specificStatAllTeams = []\n",
    "    for i in range(len(allTeamsList)):  # Loops and appends specific stat to new list until every team's stat has been added\n",
    "        specificStatAllTeams.append(allTeamsList[i][stat])\n",
    "\n",
    "    standardDeviation = statistics.stdev(specificStatAllTeams)  # Finds standard deviation of stat\n",
    "    return standardDeviation"
   ]
  },
  {
   "cell_type": "code",
   "execution_count": 4,
   "metadata": {},
   "outputs": [],
   "source": [
    "# Returns a standardized version of each data point via the z-score method\n",
    "def basicOrAdvancedStatZScore(observedStat, mean, standardDeviation):\n",
    "\n",
    "    zScore = (observedStat-mean)/standardDeviation  # Calculation for z-score\n",
    "\n",
    "    return(zScore)"
   ]
  },
  {
   "cell_type": "code",
   "execution_count": null,
   "metadata": {},
   "outputs": [],
   "source": []
  },
  {
   "cell_type": "code",
   "execution_count": null,
   "metadata": {},
   "outputs": [],
   "source": []
  },
  {
   "cell_type": "code",
   "execution_count": null,
   "metadata": {},
   "outputs": [],
   "source": []
  }
 ],
 "metadata": {
  "kernelspec": {
   "display_name": "Python 3",
   "language": "python",
   "name": "python3"
  },
  "language_info": {
   "codemirror_mode": {
    "name": "ipython",
    "version": 3
   },
   "file_extension": ".py",
   "mimetype": "text/x-python",
   "name": "python",
   "nbconvert_exporter": "python",
   "pygments_lexer": "ipython3",
   "version": "3.7.6"
  }
 },
 "nbformat": 4,
 "nbformat_minor": 4
}
