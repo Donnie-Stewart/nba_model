{
 "cells": [
  {
   "cell_type": "code",
   "execution_count": null,
   "metadata": {},
   "outputs": [],
   "source": [
    "# Dictionary holding stats that are analyzed for each game and their type\n",
    "# Update if new stats are added\n",
    "\n",
    "availableStats = {'W_PCT':'Base',\n",
    "                  'REB':'Base',\n",
    "                  'AST':'Base',\n",
    "                  'TOV':'Base',\n",
    "                  'PLUS_MINUS':'Base',\n",
    "                  'OFF_RATING':'Advanced',\n",
    "                  'DEF_RATING':'Advanced',\n",
    "                  'TS_PCT':'Advanced'}"
   ]
  }
 ],
 "metadata": {
  "kernelspec": {
   "display_name": "Python 3",
   "language": "python",
   "name": "python3"
  },
  "language_info": {
   "codemirror_mode": {
    "name": "ipython",
    "version": 3
   },
   "file_extension": ".py",
   "mimetype": "text/x-python",
   "name": "python",
   "nbconvert_exporter": "python",
   "pygments_lexer": "ipython3",
   "version": "3.7.6"
  }
 },
 "nbformat": 4,
 "nbformat_minor": 4
}
