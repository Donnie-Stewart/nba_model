{
 "cells": [
  {
   "cell_type": "code",
   "execution_count": null,
   "metadata": {},
   "outputs": [],
   "source": [
    "from nba_api.stats.static import teams\n",
    "from nba_api.stats.endpoints import leaguegamefinder\n",
    "import pandas as pd\n",
    "import os.path\n",
    "from os import path\n",
    "import numpy as np\n",
    "import pickle\n",
    "\n",
    "from nba_api.stats.endpoints import leaguegamelog, scoreboard\n",
    "import datetime\n",
    "\n"
   ]
  },
  {
   "cell_type": "code",
   "execution_count": null,
   "metadata": {},
   "outputs": [],
   "source": [
    "pip install nba_api"
   ]
  },
  {
   "cell_type": "code",
   "execution_count": null,
   "metadata": {},
   "outputs": [],
   "source": [
    "def get_todays_games(date):\n",
    "    dailyMatchups = scoreboard.Scoreboard(league_id='00', game_date=date, timeout=120)\n",
    "    dailyMatchupsDict = dailyMatchups.get_normalized_dict()\n",
    "    nba_teams = teams.get_teams()\n",
    "    listOfGames = dailyMatchupsDict['GameHeader']\n",
    "    # listOfGames\n",
    "\n",
    "    homeAwayDict = {}\n",
    "\n",
    "    for game in listOfGames:  # Loops through each game on date\n",
    "        homeTeamID = game['HOME_TEAM_ID']\n",
    "        for team in nba_teams:\n",
    "            if team['id'] == homeTeamID:\n",
    "                homeTeamName = team\n",
    "\n",
    "        awayTeamID = game['VISITOR_TEAM_ID']\n",
    "        for team in nba_teams:\n",
    "            if team['id'] == awayTeamID:\n",
    "                awayTeamName = team\n",
    "\n",
    "        homeAwayDict[homeTeamName['full_name']] = awayTeamName['full_name']\n",
    "\n",
    "    return homeAwayDict\n",
    "\n"
   ]
  },
  {
   "cell_type": "code",
   "execution_count": null,
   "metadata": {},
   "outputs": [],
   "source": [
    "get_todays_games('05/09/2021')"
   ]
  },
  {
   "cell_type": "code",
   "execution_count": null,
   "metadata": {},
   "outputs": [],
   "source": []
  }
 ],
 "metadata": {
  "kernelspec": {
   "display_name": "Python 3",
   "language": "python",
   "name": "python3"
  },
  "language_info": {
   "codemirror_mode": {
    "name": "ipython",
    "version": 3
   },
   "file_extension": ".py",
   "mimetype": "text/x-python",
   "name": "python",
   "nbconvert_exporter": "python",
   "pygments_lexer": "ipython3",
   "version": "3.7.6"
  }
 },
 "nbformat": 4,
 "nbformat_minor": 4
}
