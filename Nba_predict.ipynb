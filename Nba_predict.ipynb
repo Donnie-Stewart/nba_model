{
 "cells": [
  {
   "cell_type": "code",
   "execution_count": 10,
   "metadata": {},
   "outputs": [
    {
     "ename": "ModuleNotFoundError",
     "evalue": "No module named 'ipynb.fs.full.teamIds'",
     "output_type": "error",
     "traceback": [
      "\u001b[0;31m---------------------------------------------------------------------------\u001b[0m",
      "\u001b[0;31mModuleNotFoundError\u001b[0m                       Traceback (most recent call last)",
      "\u001b[0;32m<ipython-input-10-1f598ddb9997>\u001b[0m in \u001b[0;36m<module>\u001b[0;34m\u001b[0m\n\u001b[1;32m      8\u001b[0m \u001b[0;34m\u001b[0m\u001b[0m\n\u001b[1;32m      9\u001b[0m \u001b[0;32mfrom\u001b[0m \u001b[0mnba_api\u001b[0m\u001b[0;34m.\u001b[0m\u001b[0mstats\u001b[0m\u001b[0;34m.\u001b[0m\u001b[0mendpoints\u001b[0m \u001b[0;32mimport\u001b[0m \u001b[0mleaguegamelog\u001b[0m\u001b[0;34m,\u001b[0m \u001b[0mscoreboard\u001b[0m\u001b[0;34m\u001b[0m\u001b[0;34m\u001b[0m\u001b[0m\n\u001b[0;32m---> 10\u001b[0;31m \u001b[0;32mfrom\u001b[0m \u001b[0mipynb\u001b[0m\u001b[0;34m.\u001b[0m\u001b[0mfs\u001b[0m\u001b[0;34m.\u001b[0m\u001b[0mfull\u001b[0m\u001b[0;34m.\u001b[0m\u001b[0mteamIds\u001b[0m \u001b[0;32mimport\u001b[0m \u001b[0mteams\u001b[0m\u001b[0;34m\u001b[0m\u001b[0;34m\u001b[0m\u001b[0m\n\u001b[0m\u001b[1;32m     11\u001b[0m \u001b[0;34m\u001b[0m\u001b[0m\n\u001b[1;32m     12\u001b[0m \u001b[0;32mimport\u001b[0m \u001b[0mdatetime\u001b[0m\u001b[0;34m\u001b[0m\u001b[0;34m\u001b[0m\u001b[0m\n",
      "\u001b[0;31mModuleNotFoundError\u001b[0m: No module named 'ipynb.fs.full.teamIds'"
     ]
    }
   ],
   "source": [
    "from nba_api.stats.static import teams\n",
    "from nba_api.stats.endpoints import leaguegamefinder\n",
    "import pandas as pd\n",
    "import os.path\n",
    "from os import path\n",
    "import numpy as np\n",
    "import pickle\n",
    "\n",
    "from nba_api.stats.endpoints import leaguegamelog, scoreboard\n",
    "import datetime\n",
    "\n"
   ]
  },
  {
   "cell_type": "code",
   "execution_count": 4,
   "metadata": {},
   "outputs": [
    {
     "name": "stdout",
     "output_type": "stream",
     "text": [
      "Requirement already satisfied: nba_api in /Users/abhibegur/opt/anaconda3/lib/python3.7/site-packages (1.1.8)\n",
      "Requirement already satisfied: requests in /Users/abhibegur/opt/anaconda3/lib/python3.7/site-packages (from nba_api) (2.22.0)\n",
      "Requirement already satisfied: idna<2.9,>=2.5 in /Users/abhibegur/opt/anaconda3/lib/python3.7/site-packages (from requests->nba_api) (2.8)\n",
      "Requirement already satisfied: certifi>=2017.4.17 in /Users/abhibegur/opt/anaconda3/lib/python3.7/site-packages (from requests->nba_api) (2019.11.28)\n",
      "Requirement already satisfied: urllib3!=1.25.0,!=1.25.1,<1.26,>=1.21.1 in /Users/abhibegur/opt/anaconda3/lib/python3.7/site-packages (from requests->nba_api) (1.25.3)\n",
      "Requirement already satisfied: chardet<3.1.0,>=3.0.2 in /Users/abhibegur/opt/anaconda3/lib/python3.7/site-packages (from requests->nba_api) (3.0.4)\n",
      "\u001b[33mWARNING: You are using pip version 21.0.1; however, version 21.1.1 is available.\n",
      "You should consider upgrading via the '/Users/abhibegur/opt/anaconda3/bin/python -m pip install --upgrade pip' command.\u001b[0m\n",
      "Note: you may need to restart the kernel to use updated packages.\n"
     ]
    }
   ],
   "source": [
    "pip install nba_api"
   ]
  },
  {
   "cell_type": "code",
   "execution_count": 25,
   "metadata": {},
   "outputs": [
    {
     "ename": "NameError",
     "evalue": "name 'error_handle' is not defined",
     "output_type": "error",
     "traceback": [
      "\u001b[0;31m---------------------------------------------------------------------------\u001b[0m",
      "\u001b[0;31mNameError\u001b[0m                                 Traceback (most recent call last)",
      "\u001b[0;32m<ipython-input-25-b6772667c3b2>\u001b[0m in \u001b[0;36m<module>\u001b[0;34m\u001b[0m\n\u001b[1;32m     21\u001b[0m         \u001b[0;32melse\u001b[0m\u001b[0;34m:\u001b[0m\u001b[0;34m\u001b[0m\u001b[0;34m\u001b[0m\u001b[0m\n\u001b[1;32m     22\u001b[0m             \u001b[0mteam_df\u001b[0m\u001b[0;34m.\u001b[0m\u001b[0mtail\u001b[0m\u001b[0;34m(\u001b[0m\u001b[0;36m1\u001b[0m\u001b[0;34m)\u001b[0m\u001b[0;34m.\u001b[0m\u001b[0mto_csv\u001b[0m\u001b[0;34m(\u001b[0m\u001b[0mw_filename\u001b[0m\u001b[0;34m,\u001b[0m \u001b[0mmode\u001b[0m\u001b[0;34m=\u001b[0m\u001b[0;34m'a'\u001b[0m\u001b[0;34m,\u001b[0m \u001b[0mheader\u001b[0m\u001b[0;34m=\u001b[0m\u001b[0;32mFalse\u001b[0m\u001b[0;34m,\u001b[0m \u001b[0mindex\u001b[0m\u001b[0;34m=\u001b[0m\u001b[0;32mFalse\u001b[0m\u001b[0;34m)\u001b[0m\u001b[0;34m\u001b[0m\u001b[0;34m\u001b[0m\u001b[0m\n\u001b[0;32m---> 23\u001b[0;31m \u001b[0mmost_recent_team_data\u001b[0m\u001b[0;34m(\u001b[0m\u001b[0;34m'10-8-2020.csv'\u001b[0m\u001b[0;34m,\u001b[0m \u001b[0;34m'last_game_10-8-2020.csv'\u001b[0m\u001b[0;34m,\u001b[0m \u001b[0;34m\"10/16/2019\"\u001b[0m\u001b[0;34m,\u001b[0m \u001b[0;34m\"10/08/2020\"\u001b[0m\u001b[0;34m)\u001b[0m\u001b[0;34m\u001b[0m\u001b[0;34m\u001b[0m\u001b[0m\n\u001b[0m",
      "\u001b[0;32m<ipython-input-25-b6772667c3b2>\u001b[0m in \u001b[0;36mmost_recent_team_data\u001b[0;34m(r_filename, w_filename, start_date, end_date)\u001b[0m\n\u001b[1;32m      2\u001b[0m \u001b[0;32mdef\u001b[0m \u001b[0mmost_recent_team_data\u001b[0m\u001b[0;34m(\u001b[0m\u001b[0mr_filename\u001b[0m\u001b[0;34m,\u001b[0m \u001b[0mw_filename\u001b[0m\u001b[0;34m,\u001b[0m \u001b[0mstart_date\u001b[0m\u001b[0;34m,\u001b[0m \u001b[0mend_date\u001b[0m\u001b[0;34m)\u001b[0m\u001b[0;34m:\u001b[0m\u001b[0;34m\u001b[0m\u001b[0;34m\u001b[0m\u001b[0m\n\u001b[1;32m      3\u001b[0m \u001b[0;34m\u001b[0m\u001b[0m\n\u001b[0;32m----> 4\u001b[0;31m     \u001b[0merror_handle\u001b[0m\u001b[0;34m(\u001b[0m\u001b[0;36m0\u001b[0m\u001b[0;34m,\u001b[0m\u001b[0mr_filename\u001b[0m\u001b[0;34m,\u001b[0m\u001b[0mstart_date\u001b[0m\u001b[0;34m,\u001b[0m \u001b[0mend_date\u001b[0m\u001b[0;34m)\u001b[0m\u001b[0;34m\u001b[0m\u001b[0;34m\u001b[0m\u001b[0m\n\u001b[0m\u001b[1;32m      5\u001b[0m     \u001b[0mcsv_df\u001b[0m \u001b[0;34m=\u001b[0m \u001b[0mpd\u001b[0m\u001b[0;34m.\u001b[0m\u001b[0mread_csv\u001b[0m\u001b[0;34m(\u001b[0m\u001b[0mr_filename\u001b[0m\u001b[0;34m)\u001b[0m\u001b[0;34m\u001b[0m\u001b[0;34m\u001b[0m\u001b[0m\n\u001b[1;32m      6\u001b[0m     \u001b[0mcsv_df\u001b[0m \u001b[0;34m=\u001b[0m \u001b[0mcsv_df\u001b[0m\u001b[0;34m.\u001b[0m\u001b[0msort_values\u001b[0m\u001b[0;34m(\u001b[0m\u001b[0;34m[\u001b[0m\u001b[0;34m'TEAM_ABBREVIATION'\u001b[0m\u001b[0;34m,\u001b[0m\u001b[0;34m'GAME_DATE'\u001b[0m\u001b[0;34m]\u001b[0m \u001b[0;34m,\u001b[0m \u001b[0mascending\u001b[0m\u001b[0;34m=\u001b[0m\u001b[0;34m[\u001b[0m\u001b[0;32mTrue\u001b[0m\u001b[0;34m,\u001b[0m \u001b[0;32mTrue\u001b[0m\u001b[0;34m]\u001b[0m\u001b[0;34m)\u001b[0m\u001b[0;34m\u001b[0m\u001b[0;34m\u001b[0m\u001b[0m\n",
      "\u001b[0;31mNameError\u001b[0m: name 'error_handle' is not defined"
     ]
    }
   ],
   "source": [
    "#name of csv to read, name of csv to write\n",
    "def most_recent_team_data(r_filename, w_filename, start_date, end_date):  \n",
    "    \n",
    "    error_handle(0,r_filename,start_date, end_date)\n",
    "    csv_df = pd.read_csv(r_filename)\n",
    "    csv_df = csv_df.sort_values(['TEAM_ABBREVIATION','GAME_DATE'] , ascending=[True, True])\n",
    "\n",
    "    list_points = []\n",
    "    list_team_points = []\n",
    "    x = 1\n",
    "    for team in nba_teams:\n",
    "        team_df = csv_df[csv_df['TEAM_ID'] == team['id']]\n",
    "        for col in team_df.columns[9:]:\n",
    "            team_df['AV_'+ col] = team_df[col].rolling(window=10).mean()\n",
    "            team_df['AV_'+ col] = team_df['AV_'+ col]\n",
    "        head = list(team_df.columns.values)\n",
    "        if x == 1:\n",
    "            team_df.tail(1).to_csv(w_filename, header=head, index=False)\n",
    "            x = x+1\n",
    "\n",
    "        else:\n",
    "            team_df.tail(1).to_csv(w_filename, mode='a', header=False, index=False)\n",
    "most_recent_team_data('10-8-2020.csv', 'last_game_10-8-2020.csv', \"10/16/2019\", \"10/08/2020\")"
   ]
  },
  {
   "cell_type": "code",
   "execution_count": 65,
   "metadata": {},
   "outputs": [],
   "source": [
    "def get_todays_games(date):\n",
    "    dailyMatchups = scoreboard.Scoreboard(league_id='00', game_date=date, timeout=120)\n",
    "    dailyMatchupsDict = dailyMatchups.get_normalized_dict()\n",
    "    nba_teams = teams.get_teams()\n",
    "    listOfGames = dailyMatchupsDict['GameHeader']\n",
    "    # listOfGames\n",
    "\n",
    "    homeAwayDict = {}\n",
    "\n",
    "    for game in listOfGames:  # Loops through each game on date\n",
    "        homeTeamID = game['HOME_TEAM_ID']\n",
    "        for team in nba_teams:\n",
    "            if team['id'] == homeTeamID:\n",
    "                homeTeamName = team\n",
    "\n",
    "        awayTeamID = game['VISITOR_TEAM_ID']\n",
    "        for team in nba_teams:\n",
    "            if team['id'] == awayTeamID:\n",
    "                awayTeamName = team\n",
    "\n",
    "        homeAwayDict[homeTeamName['full_name']] = awayTeamName['full_name']\n",
    "\n",
    "    return homeAwayDict\n",
    "\n"
   ]
  },
  {
   "cell_type": "code",
   "execution_count": 66,
   "metadata": {},
   "outputs": [
    {
     "data": {
      "text/plain": [
       "{'Boston Celtics': 'Miami Heat',\n",
       " 'Los Angeles Clippers': 'New York Knicks',\n",
       " 'Charlotte Hornets': 'New Orleans Pelicans',\n",
       " 'Cleveland Cavaliers': 'Dallas Mavericks',\n",
       " 'Orlando Magic': 'Minnesota Timberwolves',\n",
       " 'Detroit Pistons': 'Chicago Bulls',\n",
       " 'Los Angeles Lakers': 'Phoenix Suns',\n",
       " 'Sacramento Kings': 'Oklahoma City Thunder'}"
      ]
     },
     "execution_count": 66,
     "metadata": {},
     "output_type": "execute_result"
    }
   ],
   "source": [
    "get_todays_games('05/09/2021')"
   ]
  },
  {
   "cell_type": "code",
   "execution_count": null,
   "metadata": {},
   "outputs": [],
   "source": []
  }
 ],
 "metadata": {
  "kernelspec": {
   "display_name": "Python 3",
   "language": "python",
   "name": "python3"
  },
  "language_info": {
   "codemirror_mode": {
    "name": "ipython",
    "version": 3
   },
   "file_extension": ".py",
   "mimetype": "text/x-python",
   "name": "python",
   "nbconvert_exporter": "python",
   "pygments_lexer": "ipython3",
   "version": "3.7.6"
  }
 },
 "nbformat": 4,
 "nbformat_minor": 4
}
