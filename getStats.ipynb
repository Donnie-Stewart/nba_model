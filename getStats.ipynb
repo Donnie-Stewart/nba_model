{
 "cells": [
  {
   "cell_type": "code",
   "execution_count": 1,
   "metadata": {},
   "outputs": [],
   "source": [
    "# getStats.py - Obtains a grouping of stats for any team in the NBA\n",
    "from nba_api.stats.endpoints import teamdashboardbygeneralsplits, leaguedashteamstats\n",
    "from nba_api.stats.static import teams\n",
    "from ipynb.fs.full.customHeaders import customHeaders\n",
    "from ipynb.fs.full.getDailyMatchups import dailyMatchupsPast\n",
    "from ipynb.fs.full.availableStats import availableStats\n",
    "# from ipynb.fs.full.standardizeStats import basicOrAdvancedStatZScore, basicOrAdvancedStatStandardDeviation, basicOrAdvancedStatMean\n",
    "from ipynb.fs.full.teamIds import teams\n",
    "import time\n",
    "\n",
    "import pandas as pd\n",
    "from pandas import DataFrame"
   ]
  },
  {
   "cell_type": "code",
   "execution_count": 2,
   "metadata": {},
   "outputs": [],
   "source": [
    "# Returns various stats for inputted team in a dictionary\n",
    "# team should match team name in teamIds.py\n",
    "# startDate and endDate should be in format 'mm/dd/yyyy'\n",
    "def getStatsForTeam(team, startDate, endDate, season='2019-20'):\n",
    "\n",
    "    time.sleep(1)\n",
    "    \n",
    "#   Uses NBA_API to return team name, given a team id\n",
    "#     teamName = teams.find_team_name_by_id(team)['full_name']\n",
    "    \n",
    "    # Uses NBA_API to access the dictionary holding basic stats for every team per 100 possessions\n",
    "    generalTeamInfo = teamdashboardbygeneralsplits.TeamDashboardByGeneralSplits(team_id=teams[team], per_mode_detailed='Per100Possessions', date_from_nullable=startDate, date_to_nullable=endDate, season=season, headers=customHeaders,timeout=120)\n",
    "    generalTeamDict = generalTeamInfo.get_normalized_dict()\n",
    "    generalTeamDashboard = generalTeamDict['OverallTeamDashboard'][0]\n",
    "\n",
    "    # Returns Win PCT, Rebounds, Turnovers, and Plus Minus\n",
    "    winPercentage = generalTeamDashboard['W_PCT']\n",
    "    rebounds = generalTeamDashboard['REB']\n",
    "    turnovers = generalTeamDashboard['TOV']\n",
    "    plusMinus = generalTeamDashboard['PLUS_MINUS']\n",
    "    assists = generalTeamDashboard['AST']\n",
    "\n",
    "    # Uses NBA_API to access the dictionary holding advanced stats for every team\n",
    "    advancedTeamInfo = teamdashboardbygeneralsplits.TeamDashboardByGeneralSplits(team_id=teams[team], measure_type_detailed_defense='Advanced', date_from_nullable=startDate, date_to_nullable=endDate, season=season, headers=customHeaders,timeout=120)\n",
    "    advancedTeamDict  = advancedTeamInfo.get_normalized_dict()\n",
    "    advancedTeamDashboard = advancedTeamDict['OverallTeamDashboard'][0]\n",
    "\n",
    "    # Variables holding OFF Rating, DEF Rating, and TS%\n",
    "    offensiveRating = advancedTeamDashboard['OFF_RATING']\n",
    "    defensiveRating = advancedTeamDashboard['DEF_RATING']\n",
    "    trueShootingPercentage = advancedTeamDashboard['TS_PCT']\n",
    "\n",
    "    # Puts all the stats for specified team into a dictionary\n",
    "    allStats = {\n",
    "        'W_PCT':winPercentage,\n",
    "        'REB':rebounds,\n",
    "        'TOV':turnovers,\n",
    "        'PLUS_MINUS':plusMinus,\n",
    "        'OFF_RATING':offensiveRating,\n",
    "        'DEF_RATING': defensiveRating,\n",
    "        'TS_PCT':trueShootingPercentage,\n",
    "        'AST':assists,\n",
    "    }\n",
    "\n",
    "    return allStats"
   ]
  },
  {
   "cell_type": "code",
   "execution_count": null,
   "metadata": {},
   "outputs": [],
   "source": [
    "# stats = getStatsForTeam('1610612744', '10/22/2019', '12/25/2019')\n",
    "# df = pd.DataFrame([stats])\n",
    "# stats2 = pd.DataFrame([getStatsForTeam('1610612738','10/22/2019', '12/25/2019')])\n",
    "# df = pd.concat([stats2,df])\n",
    "# print(df)"
   ]
  },
  {
   "cell_type": "code",
   "execution_count": null,
   "metadata": {},
   "outputs": [],
   "source": [
    "# df = pd.DataFrame.from_dict(stats,orient='index',columns=['W_PCT', 'REB', 'TOV', 'PLUS_MINUS', 'OFF_RATING', 'DEF_RATING', 'TS_PCT'])\n",
    "# df = DataFrame(list(stats.items()),columns=['W_PCT', 'REB', 'TOV', 'PLUS_MINUS', 'OFF_RATING', 'DEF_RATING', 'TS_PCT'])\n",
    "# df = pd.DataFrame([stats])\n",
    "# print(df)"
   ]
  },
  {
   "cell_type": "code",
   "execution_count": null,
   "metadata": {},
   "outputs": [],
   "source": []
  },
  {
   "cell_type": "code",
   "execution_count": null,
   "metadata": {},
   "outputs": [],
   "source": [
    "# print(homeTeamStats)"
   ]
  },
  {
   "cell_type": "code",
   "execution_count": null,
   "metadata": {},
   "outputs": [],
   "source": [
    "# getStatsForTeam('Charlotte Hornets','10/22/2019', '12/25/2019' )"
   ]
  },
  {
   "cell_type": "code",
   "execution_count": null,
   "metadata": {},
   "outputs": [],
   "source": []
  }
 ],
 "metadata": {
  "kernelspec": {
   "display_name": "Python 3",
   "language": "python",
   "name": "python3"
  },
  "language_info": {
   "codemirror_mode": {
    "name": "ipython",
    "version": 3
   },
   "file_extension": ".py",
   "mimetype": "text/x-python",
   "name": "python",
   "nbconvert_exporter": "python",
   "pygments_lexer": "ipython3",
   "version": "3.7.6"
  }
 },
 "nbformat": 4,
 "nbformat_minor": 4
}
