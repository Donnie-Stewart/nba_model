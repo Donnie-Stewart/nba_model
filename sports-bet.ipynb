{
 "cells": [
  {
   "cell_type": "code",
   "execution_count": null,
   "metadata": {},
   "outputs": [],
   "source": [
    "import pandas as pd\n",
    "import numpy as np\n",
    "from sklearn import linear_model, tree"
   ]
  },
  {
   "cell_type": "code",
   "execution_count": null,
   "metadata": {
    "tags": []
   },
   "outputs": [],
   "source": [
    "from nba_api.stats.endpoints import playergamelog\n",
    "\n",
    "steven_games = playergamelog.PlayerGameLog(player_id = '203500')\n",
    "steven_games_df = steven_games.get_data_frames()\n",
    "print(steven_games_df)\n",
    "# game ID -> 0021900949\n",
    "# get the file path on the api \n",
    "# simply just change the '/' to '.' and find what file you want\n",
    "# then open the file and see what functions they have       \n",
    "# example:\n",
    "# nba_api/stats/endpoints/boxscoredefensive.py \n",
    "\n",
    "from nba_api.stats.endpoints import boxscoredefensive\n",
    "# if you look in this class game_id is the only not default class need to set it. \n",
    "bx = boxscoredefensive.BoxScoreDefensive(game_id = '0021900949')\n",
    "bx_df = bx.get_data_frames()\n",
    "print(\"defensive stats\",bx_df )"
   ]
  },
  {
   "cell_type": "code",
   "execution_count": null,
   "metadata": {
    "tags": []
   },
   "outputs": [],
   "source": [
    "from nba_api.stats.static import players\n",
    "player_data = players.get_active_players()\n",
    "print(player_data[:3])\n"
   ]
  },
  {
   "cell_type": "code",
   "execution_count": null,
   "metadata": {
    "tags": []
   },
   "outputs": [],
   "source": [
    "from nba_api.stats.endpoints import boxscoresummaryv2\n",
    "knicks_okc = boxscoresummaryv2.BoxScoreSummaryV2(game_id = '0021900932')\n",
    "df = knicks_okc.get_data_frames()\n",
    "print(df[:])\n",
    "#0021900932"
   ]
  }
 ],
 "metadata": {
  "kernelspec": {
   "display_name": "Python 3",
   "language": "python",
   "name": "python3"
  },
  "language_info": {
   "codemirror_mode": {
    "name": "ipython",
    "version": 3
   },
   "file_extension": ".py",
   "mimetype": "text/x-python",
   "name": "python",
   "nbconvert_exporter": "python",
   "pygments_lexer": "ipython3",
   "version": "3.7.6"
  }
 },
 "nbformat": 4,
 "nbformat_minor": 4
}