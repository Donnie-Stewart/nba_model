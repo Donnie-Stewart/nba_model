{
 "cells": [
  {
   "cell_type": "code",
   "execution_count": 47,
   "metadata": {},
   "outputs": [],
   "source": [
    "import pandas as pd\n",
    "from sklearn.model_selection import train_test_split\n",
    "from sklearn import metrics\n",
    "from sklearn.metrics import classification_report, confusion_matrix\n",
    "from sklearn.svm import SVC\n",
    "from sklearn.linear_model import LogisticRegression\n"
   ]
  },
  {
   "cell_type": "code",
   "execution_count": 54,
   "metadata": {},
   "outputs": [
    {
     "name": "stdout",
     "output_type": "stream",
     "text": [
      "[[ 53  81]\n",
      " [ 41 159]]\n",
      "              precision    recall  f1-score   support\n",
      "\n",
      "           0       0.56      0.40      0.46       134\n",
      "           1       0.66      0.80      0.72       200\n",
      "\n",
      "    accuracy                           0.63       334\n",
      "   macro avg       0.61      0.60      0.59       334\n",
      "weighted avg       0.62      0.63      0.62       334\n",
      "\n"
     ]
    }
   ],
   "source": [
    "df = pd.read_csv(\"all_zscores.csv\")\n",
    "\n",
    "featureColumns = df.columns[1:]\n",
    "\n",
    "X = df[featureColumns] # Features\n",
    "Y = df['WL'] # Target Variable\n",
    "for \n",
    "X_train, X_test, Y_train, Y_test = train_test_split(X, Y, test_size=0.1, shuffle=True)\n",
    "\n",
    "# logreg = LogisticRegression()\n",
    "\n",
    "# logreg.fit(X_train, Y_train)  \n",
    "# Y_pred = logreg.predict(X_test)\n",
    "\n",
    "confusionMatrix = metrics.confusion_matrix(Y_test, Y_pred)\n",
    "for i in range(1, 2):\n",
    "    svclassifier = SVC(kernel='rbf')\n",
    "    svclassifier.fit(X_train, Y_train)\n",
    "    y_pred = svclassifier.predict(X_test)\n",
    "print(confusion_matrix(Y_test, y_pred))\n",
    "print(classification_report(Y_test, y_pred))"
   ]
  },
  {
   "cell_type": "code",
   "execution_count": null,
   "metadata": {},
   "outputs": [],
   "source": []
  },
  {
   "cell_type": "code",
   "execution_count": null,
   "metadata": {},
   "outputs": [],
   "source": []
  }
 ],
 "metadata": {
  "kernelspec": {
   "display_name": "Python 3",
   "language": "python",
   "name": "python3"
  },
  "language_info": {
   "codemirror_mode": {
    "name": "ipython",
    "version": 3
   },
   "file_extension": ".py",
   "mimetype": "text/x-python",
   "name": "python",
   "nbconvert_exporter": "python",
   "pygments_lexer": "ipython3",
   "version": "3.8.0"
  }
 },
 "nbformat": 4,
 "nbformat_minor": 4
}
